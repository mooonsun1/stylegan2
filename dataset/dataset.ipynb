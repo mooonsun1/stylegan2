{
 "cells": [
  {
   "cell_type": "code",
   "execution_count": 1,
   "metadata": {},
   "outputs": [],
   "source": [
    "import os\n",
    "import shutil\n",
    "import matplotlib\n",
    "import matplotlib.pyplot as plt\n",
    "import bing_image_downloader\n",
    "from bing_image_downloader import downloader\n",
    "\n",
    "directory_path = r'C:\\Users\\MUNSUNG\\Desktop\\만선\\project\\stylegan2\\dataset'"
   ]
  },
  {
   "cell_type": "code",
   "execution_count": 7,
   "metadata": {},
   "outputs": [
    {
     "name": "stdout",
     "output_type": "stream",
     "text": [
      "[%] Downloading Images to C:\\Users\\MUNSUNG\\Desktop\\만선\\project\\stylegan2\\dataset\\공승연\n",
      "\n",
      "\n",
      "[!!]Indexing page: 1\n",
      "\n",
      "[%] Indexed 10 Images on Page 1.\n",
      "\n",
      "===============================================\n",
      "\n",
      "[%] Downloading Image #1 from http://talkimg.imbc.com/TVianUpload/tvian/TViews/image/2021/11/26/03c418d4-d9ff-48a2-a400-8cd26b971caf.jpg\n",
      "[%] File Downloaded !\n",
      "\n",
      "[%] Downloading Image #2 from https://dimg.donga.com/wps/SPORTS/IMAGE/2022/12/31/117234504.5.jpg\n",
      "[%] File Downloaded !\n",
      "\n",
      "[%] Downloading Image #3 from https://img.sbs.co.kr/newsnet/etv/upload/2021/11/26/30000727071_1280.jpg\n",
      "[%] File Downloaded !\n",
      "\n",
      "[%] Downloading Image #4 from https://image.cine21.com/resize/cine21/person/2021/0512/12_38_58__609b4dd2858f0[H800-].JPG\n",
      "[%] File Downloaded !\n",
      "\n",
      "[%] Downloading Image #5 from https://img.sbs.co.kr/newsnet/etv/upload/2023/08/01/30000865862_1280.jpg\n",
      "[%] File Downloaded !\n",
      "\n",
      "[%] Downloading Image #6 from http://img2.sbs.co.kr/img/sbs_cms/CH/2017/03/13/CH84409796_w666_h968.jpg\n",
      "[%] File Downloaded !\n",
      "\n",
      "[%] Downloading Image #7 from https://img.asiatoday.co.kr/file/2021y/11m/26d/2021112601002227300161701.jpg\n",
      "[%] File Downloaded !\n",
      "\n",
      "[%] Downloading Image #8 from https://entertainimg.kbsmedia.co.kr/cms/uploads/BBSIMAGE_20210513181236_882ce78d8f1a0d3621fb33704e8a89f9.JPG\n",
      "[%] File Downloaded !\n",
      "\n",
      "[%] Downloading Image #9 from https://i.pinimg.com/originals/ce/52/b5/ce52b5e4af3ed8667219f7c053f0470e.jpg\n",
      "[%] File Downloaded !\n",
      "\n",
      "[%] Downloading Image #10 from https://img.asiatoday.co.kr/file/2017y/05m/17d/2017051701001153800086821.jpg\n",
      "[%] File Downloaded !\n",
      "\n",
      "\n",
      "\n",
      "[%] Done. Downloaded 10 images.\n"
     ]
    }
   ],
   "source": [
    "query = ''\n",
    "\n",
    "downloader.download(query , limit=10 , output_dir=directory_path , adult_filter_off=True , force_replace=False , timeout=60)\n",
    "\n",
    "directory_list = [\n",
    "    directory_path + '/data/' + query + '/train',\n",
    "    directory_path + '/data/' + query + '/test'\n",
    "]\n",
    "\n",
    "for directory in directory_list:\n",
    "    if not os.path.isdir(directory):\n",
    "        os.makedirs(directory)"
   ]
  },
  {
   "cell_type": "code",
   "execution_count": null,
   "metadata": {},
   "outputs": [],
   "source": []
  }
 ],
 "metadata": {
  "kernelspec": {
   "display_name": "env",
   "language": "python",
   "name": "python3"
  },
  "language_info": {
   "codemirror_mode": {
    "name": "ipython",
    "version": 3
   },
   "file_extension": ".py",
   "mimetype": "text/x-python",
   "name": "python",
   "nbconvert_exporter": "python",
   "pygments_lexer": "ipython3",
   "version": "3.7.2"
  }
 },
 "nbformat": 4,
 "nbformat_minor": 2
}
